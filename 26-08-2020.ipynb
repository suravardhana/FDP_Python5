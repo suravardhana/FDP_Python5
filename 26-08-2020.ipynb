{
 "cells": [
  {
   "cell_type": "markdown",
   "metadata": {},
   "source": [
    "Good Morning"
   ]
  },
  {
   "cell_type": "markdown",
   "metadata": {},
   "source": [
    "### Today's Topics \n",
    "- while loop\n",
    "- breaking statements\n",
    "- Functions"
   ]
  },
  {
   "cell_type": "code",
   "execution_count": 2,
   "metadata": {},
   "outputs": [],
   "source": [
    "# while Syntax:\n",
    "# while condition:\n",
    "    # statements\n",
    "    # inc/dec"
   ]
  },
  {
   "cell_type": "code",
   "execution_count": 5,
   "metadata": {},
   "outputs": [
    {
     "name": "stdout",
     "output_type": "stream",
     "text": [
      "1 2 3 4 5 6 7 8 9 10 "
     ]
    }
   ],
   "source": [
    "for i in range(1,10+1):\n",
    "    print(i,end = ' ')"
   ]
  },
  {
   "cell_type": "code",
   "execution_count": 10,
   "metadata": {},
   "outputs": [
    {
     "name": "stdout",
     "output_type": "stream",
     "text": [
      "10 8 6 4 2 "
     ]
    }
   ],
   "source": [
    "for i in range(10,0,-2):\n",
    "    print(i,end = ' ')"
   ]
  },
  {
   "cell_type": "code",
   "execution_count": 4,
   "metadata": {},
   "outputs": [
    {
     "name": "stdout",
     "output_type": "stream",
     "text": [
      "1 3 5 7 9 "
     ]
    }
   ],
   "source": [
    "i = 1\n",
    "while i<=10:\n",
    "    print(i,end = ' ')\n",
    "    i+=2"
   ]
  },
  {
   "cell_type": "code",
   "execution_count": 3,
   "metadata": {},
   "outputs": [
    {
     "name": "stdout",
     "output_type": "stream",
     "text": [
      "10 8 6 4 2 "
     ]
    }
   ],
   "source": [
    "i = 10\n",
    "while i>0:\n",
    "    print(i,end = ' ')\n",
    "    i-=2"
   ]
  },
  {
   "cell_type": "code",
   "execution_count": 6,
   "metadata": {},
   "outputs": [
    {
     "name": "stdout",
     "output_type": "stream",
     "text": [
      "enter number123\n",
      "321\n"
     ]
    }
   ],
   "source": [
    "# Reversing the number\n",
    "n = int(input('enter number')) #123\n",
    "res = 0 #\n",
    "while n!= 0: #T T T F\n",
    "    s = n%10# 3 2 1\n",
    "    res = res*10+s #3 32 321\n",
    "    n = n//10 # 12 1 0\n",
    "print(res)"
   ]
  },
  {
   "cell_type": "code",
   "execution_count": 7,
   "metadata": {},
   "outputs": [],
   "source": [
    "# check the palindrome number or not"
   ]
  },
  {
   "cell_type": "code",
   "execution_count": 8,
   "metadata": {},
   "outputs": [],
   "source": [
    "# Breaking statements\n",
    "  # to intrepute the program in perticular condition\n",
    "# Break => to exit from the loop in preticular condition\n",
    "# continue => skip the perticular condition"
   ]
  },
  {
   "cell_type": "code",
   "execution_count": 2,
   "metadata": {},
   "outputs": [
    {
     "name": "stdout",
     "output_type": "stream",
     "text": [
      "1\n",
      "2\n",
      "3\n",
      "4\n",
      "5\n"
     ]
    }
   ],
   "source": [
    "for i in range(1,10):\n",
    "    print(i)\n",
    "    if i == 5:\n",
    "        break\n",
    "   "
   ]
  },
  {
   "cell_type": "code",
   "execution_count": 1,
   "metadata": {
    "collapsed": true
   },
   "outputs": [
    {
     "name": "stdout",
     "output_type": "stream",
     "text": [
      "10\n",
      "9\n",
      "8\n",
      "7\n",
      "6\n",
      "4\n",
      "3\n",
      "2\n",
      "1\n"
     ]
    }
   ],
   "source": [
    "n = 10\n",
    "while n>0:\n",
    "    \n",
    "    if n == 5:\n",
    "        n-=1\n",
    "        continue\n",
    "        \n",
    "    print(n)\n",
    "    n-=1"
   ]
  },
  {
   "cell_type": "markdown",
   "metadata": {},
   "source": [
    "### Functions\n",
    "- to perform perticular taskn main program\n",
    "- uses of Functions:\n",
    "   - code reuseability\n",
    "   - reduce the main code\n",
    "   - complexcity of program will reduce"
   ]
  },
  {
   "cell_type": "markdown",
   "metadata": {},
   "source": [
    "### Types of the Functions\n",
    "- predefine Functions\n",
    "  - already define in the python\n",
    "     -  Ex: print,range,sum,mean,input,.. etc\n",
    "- Userdefine Functions:\n",
    "  - based on return type:\n",
    "      1. without Arg and Without Return value\n",
    "      2. without Arg and With Return value\n",
    "      3. with Arg and Without Return value\n",
    "      4. with Arg and With Return value\n",
    "  - based on arg:\n",
    "      1. Default Arg\n",
    "      2. Requrired Arg or positional Arg\n",
    "      3. variable length Arg\n",
    "      4. Keyword Arg\n",
    "- Special Functions\n",
    "  - Ex: lambda,iterator,comphrensions,map,..etc"
   ]
  },
  {
   "cell_type": "code",
   "execution_count": 3,
   "metadata": {},
   "outputs": [],
   "source": [
    "# To use userdefine function function 2 steps \n",
    "#1.function creation by using def keyword \n",
    "   # 1.function declearition\n",
    "      # def FunctionName(Arg):\n",
    "   # 2. function Defination\n",
    "      # operation of the function\n",
    "    \n",
    "#2.function calling\n",
    "   # By using function name we can call the function"
   ]
  },
  {
   "cell_type": "code",
   "execution_count": 4,
   "metadata": {},
   "outputs": [
    {
     "name": "stdout",
     "output_type": "stream",
     "text": [
      "hello\n"
     ]
    }
   ],
   "source": [
    "def A():\n",
    "    print('hello')\n",
    "A()"
   ]
  },
  {
   "cell_type": "code",
   "execution_count": 5,
   "metadata": {},
   "outputs": [],
   "source": [
    "# without Arg and without return value\n",
    "def type1():\n",
    "    a = int(input('enter a value'))\n",
    "    b = int(input('enter b value'))\n",
    "    print(a+b)"
   ]
  },
  {
   "cell_type": "code",
   "execution_count": 7,
   "metadata": {},
   "outputs": [
    {
     "name": "stdout",
     "output_type": "stream",
     "text": [
      "enter a value88\n",
      "enter b value44\n",
      "132\n",
      "None\n"
     ]
    }
   ],
   "source": [
    "s = type1()\n",
    "print(s)"
   ]
  },
  {
   "cell_type": "code",
   "execution_count": 11,
   "metadata": {},
   "outputs": [
    {
     "name": "stdout",
     "output_type": "stream",
     "text": [
      "enter a value89\n",
      "enter b value56\n",
      "33\n"
     ]
    }
   ],
   "source": [
    "# without arg and with return value\n",
    "def type2():\n",
    "    a = int(input('enter a value'))\n",
    "    b = int(input('enter b value'))\n",
    "    return a-b\n",
    "c = type2()\n",
    "print(c)"
   ]
  },
  {
   "cell_type": "code",
   "execution_count": 16,
   "metadata": {},
   "outputs": [],
   "source": [
    "# with arg and without return value\n",
    "def type3(a,b):\n",
    "    add = a+b\n",
    "    sub = a-b\n",
    "    mul = a*b\n",
    "    div = a/b\n",
    "    moddiv = a%b\n",
    "    floordiv = a//b\n",
    "    \n",
    "    print(add,sub,mul,div,moddiv,floordiv)"
   ]
  },
  {
   "cell_type": "code",
   "execution_count": 17,
   "metadata": {},
   "outputs": [
    {
     "name": "stdout",
     "output_type": "stream",
     "text": [
      "enter a value89\n",
      "enter b value54\n",
      "143 35 4806 1.6481481481481481 35 1\n"
     ]
    }
   ],
   "source": [
    "a = int(input('enter a value'))\n",
    "b = int(input('enter b value'))\n",
    "type3(a,b)"
   ]
  },
  {
   "cell_type": "code",
   "execution_count": 22,
   "metadata": {},
   "outputs": [],
   "source": [
    "# with arg and with return value\n",
    "def type4(a,b):\n",
    "    add = a+b\n",
    "    sub = a-b\n",
    "    mul = a*b\n",
    "    div = a/b\n",
    "    moddiv = a%b\n",
    "    floordiv = a//b\n",
    "    return add,sub"
   ]
  },
  {
   "cell_type": "code",
   "execution_count": 23,
   "metadata": {},
   "outputs": [],
   "source": [
    "a = type4(34,23)"
   ]
  },
  {
   "cell_type": "code",
   "execution_count": 25,
   "metadata": {},
   "outputs": [],
   "source": [
    "b = type4(89,76)"
   ]
  },
  {
   "cell_type": "code",
   "execution_count": 26,
   "metadata": {},
   "outputs": [
    {
     "name": "stdout",
     "output_type": "stream",
     "text": [
      "(57, 11) (165, 13)\n"
     ]
    }
   ],
   "source": [
    "print(a,b)"
   ]
  },
  {
   "cell_type": "code",
   "execution_count": 45,
   "metadata": {},
   "outputs": [
    {
     "name": "stdout",
     "output_type": "stream",
     "text": [
      "50\n",
      "40\n",
      "100\n"
     ]
    }
   ],
   "source": [
    "# 1.Default arg\n",
    "def Default(a = 20,b =30):\n",
    "    print(a+b)\n",
    "Default()\n",
    "Default(10)\n",
    "Default(50,50)\n",
    "#Default(89,89,89)"
   ]
  },
  {
   "cell_type": "code",
   "execution_count": 42,
   "metadata": {},
   "outputs": [
    {
     "name": "stdout",
     "output_type": "stream",
     "text": [
      "270\n",
      "290\n"
     ]
    }
   ],
   "source": [
    "# Required or positional Arg\n",
    "def required(a,b,c=30):\n",
    "    print(a+b-c)\n",
    "required(100,200)\n",
    "required(100,200,10)"
   ]
  },
  {
   "cell_type": "code",
   "execution_count": 50,
   "metadata": {},
   "outputs": [
    {
     "name": "stdout",
     "output_type": "stream",
     "text": [
      "0\n",
      "9\n",
      "99\n",
      "54\n"
     ]
    }
   ],
   "source": [
    "# variable length\n",
    "def varlen(*a):\n",
    "    print(sum(a))\n",
    "varlen()\n",
    "varlen(9)\n",
    "varlen(9,34,56)\n",
    "varlen(9,5,6,7,8,9,0,10)"
   ]
  },
  {
   "cell_type": "code",
   "execution_count": 56,
   "metadata": {},
   "outputs": [
    {
     "name": "stdout",
     "output_type": "stream",
     "text": [
      "20 10 30 30 50 40\n"
     ]
    }
   ],
   "source": [
    "# keyword Arg\n",
    "def Keyword(a,b,c=30):\n",
    "    print(a,b,c,a+b,a+c,b+c)\n",
    "Keyword(b = 10,a =20)"
   ]
  },
  {
   "cell_type": "code",
   "execution_count": 60,
   "metadata": {},
   "outputs": [
    {
     "name": "stdout",
     "output_type": "stream",
     "text": [
      "hello Ramu working in apssdc\n"
     ]
    }
   ],
   "source": [
    "def keyword1(name,companey):\n",
    "    print('hello {} working in {}'.format(name,companey))\n",
    "keyword1(companey = 'apssdc',name = 'Ramu')"
   ]
  },
  {
   "cell_type": "code",
   "execution_count": 63,
   "metadata": {},
   "outputs": [
    {
     "name": "stdout",
     "output_type": "stream",
     "text": [
      "{'name': ['ramu', 'prasanna', 'venkatesh']}\n"
     ]
    }
   ],
   "source": [
    "def keyword2(**name):\n",
    "    print(name)\n",
    "keyword2(name=['ramu','prasanna','venkatesh'])"
   ]
  },
  {
   "cell_type": "code",
   "execution_count": 73,
   "metadata": {},
   "outputs": [
    {
     "name": "stdout",
     "output_type": "stream",
     "text": [
      "10 (20,) 30 60\n"
     ]
    }
   ],
   "source": [
    "def fun(a,c =10,*b):\n",
    "    print(a,b,c,a+sum(b)+c)\n",
    "fun(10,30,20)"
   ]
  },
  {
   "cell_type": "code",
   "execution_count": 76,
   "metadata": {},
   "outputs": [],
   "source": [
    "# range=> 3 arg amoung them 1 req(fina) 2 default(init,step)\n",
    "def range1(final,init = 0,step = 1):\n",
    "    \n",
    "    n = init\n",
    "    while n<final:\n",
    "        print(n)\n",
    "        n+=step"
   ]
  },
  {
   "cell_type": "code",
   "execution_count": 104,
   "metadata": {},
   "outputs": [],
   "source": [
    "#range1(10,1,2)\n",
    "range1(10,20)"
   ]
  },
  {
   "cell_type": "code",
   "execution_count": 82,
   "metadata": {},
   "outputs": [],
   "source": [
    "def fact(n):\n",
    "    if n ==1:\n",
    "        return 1\n",
    "    else:\n",
    "        return n*fact(n-1)"
   ]
  },
  {
   "cell_type": "code",
   "execution_count": 84,
   "metadata": {},
   "outputs": [
    {
     "data": {
      "text/plain": [
       "120"
      ]
     },
     "execution_count": 84,
     "metadata": {},
     "output_type": "execute_result"
    }
   ],
   "source": [
    "fact(5)"
   ]
  },
  {
   "cell_type": "code",
   "execution_count": 89,
   "metadata": {},
   "outputs": [],
   "source": [
    "def fun(a,b):\n",
    "    c = int(input('enter c value'))\n",
    "    \n",
    "    return a+b+c\n",
    "    print(c)"
   ]
  },
  {
   "cell_type": "code",
   "execution_count": 90,
   "metadata": {},
   "outputs": [
    {
     "name": "stdout",
     "output_type": "stream",
     "text": [
      "enter c value11\n"
     ]
    },
    {
     "data": {
      "text/plain": [
       "30"
      ]
     },
     "execution_count": 90,
     "metadata": {},
     "output_type": "execute_result"
    }
   ],
   "source": [
    "fun(9,10)"
   ]
  },
  {
   "cell_type": "code",
   "execution_count": 91,
   "metadata": {},
   "outputs": [],
   "source": [
    "def Isprime(n):\n",
    "    c = 0\n",
    "    for i in range(2,n):\n",
    "        if n%i == 0:\n",
    "            c+=1\n",
    "            break\n",
    "    if c == 0:\n",
    "        return True\n",
    "    else:\n",
    "        return False\n",
    "        "
   ]
  },
  {
   "cell_type": "code",
   "execution_count": 98,
   "metadata": {},
   "outputs": [
    {
     "data": {
      "text/plain": [
       "False"
      ]
     },
     "execution_count": 98,
     "metadata": {},
     "output_type": "execute_result"
    }
   ],
   "source": [
    "Isprime(7)\n",
    "Isprime(27)"
   ]
  },
  {
   "cell_type": "code",
   "execution_count": 101,
   "metadata": {},
   "outputs": [
    {
     "name": "stdout",
     "output_type": "stream",
     "text": [
      "enter starting value1\n",
      "enter end value100\n",
      "1 2 3 5 7 11 13 17 19 23 29 31 37 41 43 47 53 59 61 67 71 73 79 83 89 97 "
     ]
    }
   ],
   "source": [
    "start = int(input('enter starting value'))\n",
    "end = int(input('enter end value'))\n",
    "def prime_gen(start,end):\n",
    "    for i in range(start,end+1):\n",
    "        if Isprime(i):\n",
    "            print(i,end = ' ')\n",
    "prime_gen(start,end)"
   ]
  },
  {
   "cell_type": "code",
   "execution_count": null,
   "metadata": {},
   "outputs": [],
   "source": []
  }
 ],
 "metadata": {
  "kernelspec": {
   "display_name": "Python 3",
   "language": "python",
   "name": "python3"
  },
  "language_info": {
   "codemirror_mode": {
    "name": "ipython",
    "version": 3
   },
   "file_extension": ".py",
   "mimetype": "text/x-python",
   "name": "python",
   "nbconvert_exporter": "python",
   "pygments_lexer": "ipython3",
   "version": "3.7.3"
  }
 },
 "nbformat": 4,
 "nbformat_minor": 2
}
